{
 "cells": [
  {
   "cell_type": "code",
   "execution_count": 1,
   "metadata": {},
   "outputs": [],
   "source": [
    "import tdt\n",
    "import collections\n",
    "import numpy as np\n",
    "import sys\n",
    "import seaborn as sns\n",
    "import matplotlib.pylab as plt\n",
    "# help(tdt.read_block)\n"
   ]
  },
  {
   "cell_type": "code",
   "execution_count": 2,
   "metadata": {},
   "outputs": [],
   "source": [
    "TONE_DURATION = 0.25\n",
    "IN_TONE_CAPTURE_START_OFFSET = 0.0\n",
    "IN_TONE_CAPTURE_END_OFFSET = 0.2  # time between start offset and end offset will be counted\n",
    "OUT_TONE_CAPTURE_START_OFFSET = 0.1\n",
    "OUT_TONE_CAPTURE_END_OFFSET = 0.25 # time between start offset and end offset will be counted\n",
    "\n",
    "TONES_PER_SECOND = 2\n",
    "\n",
    "START_OFFSET = -9.1\n",
    "END_OFFSET = 9.1\n",
    "\n",
    "BLOCK_PATH = \"/Users/smorgan/Documents/tdttmp/Block-1\"\n",
    "# BLOCK_PATH = \"/Volumes/SM Research/Research Data/Simeon Morgan/111_140/2009-07-19 Auditory continuous 10s acclimatisation/2009-07-19 111_140/Block-1\""
   ]
  },
  {
   "cell_type": "code",
   "execution_count": 3,
   "metadata": {},
   "outputs": [
    {
     "name": "stderr",
     "output_type": "stream",
     "text": [
      "/Volumes/CaseSensitiveDevPartition/personal/tdt/.venv/lib/python3.8/site-packages/tdt/TDTbin2py.py:792: Warning: tnt file could not be processed\n",
      "  warnings.warn('tnt file could not be processed', Warning)\n"
     ]
    },
    {
     "name": "stdout",
     "output_type": "stream",
     "text": [
      "read from t=0s to t=7457.32s\n"
     ]
    }
   ],
   "source": [
    "data = tdt.read_block(BLOCK_PATH, evtype=['epocs', 'snips', 'scalars'], nodata=1)"
   ]
  },
  {
   "cell_type": "code",
   "execution_count": 4,
   "metadata": {},
   "outputs": [],
   "source": [
    "filtered = tdt.epoc_filter(data, \"TriS\", t=[START_OFFSET, END_OFFSET - START_OFFSET])"
   ]
  },
  {
   "cell_type": "code",
   "execution_count": 6,
   "metadata": {},
   "outputs": [],
   "source": [
    "# Skip the last tone as the end offset should always go a little past the end\n",
    "tones_to_include = int(((END_OFFSET - START_OFFSET) * TONES_PER_SECOND) - 1)\n",
    "\n",
    "TIME_RANGE_ONSET_IDX = 0\n",
    "TIME_RANGE_OFFSET_IDX = 1\n",
    "\n",
    "SpikeCountRange = collections.namedtuple(\"SpikeCountRange\", (\"start\", \"end\"))\n",
    "\n",
    "all_trials_data = []\n",
    "cspk_offset = 0\n",
    "cspk_data = filtered[\"snips\"][\"CSPK\"]\n",
    "cspk_length = len(cspk_data[\"ts\"])\n",
    "np.set_printoptions(threshold=sys.maxsize)\n",
    "\n",
    "for trial_number in range(len(filtered[\"time_ranges\"][0])):\n",
    "    in_tone_data = np.zeros((tones_to_include * 2, 32), np.uint)\n",
    "    #out_tone_data = np.zeros((tones_to_include, 32), np.uint)\n",
    "    for tone_number, tone_offset in enumerate(filter(lambda x: filtered[\"time_ranges\"][TIME_RANGE_ONSET_IDX][trial_number] < x < filtered[\"time_ranges\"][TIME_RANGE_OFFSET_IDX][trial_number], filtered[\"epocs\"][\"StiS\"][\"onset\"])):\n",
    "        if tone_number >= tones_to_include:\n",
    "            continue\n",
    "\n",
    "        spike_cumulator_range = SpikeCountRange(start=tone_offset+IN_TONE_CAPTURE_START_OFFSET, end=tone_offset+IN_TONE_CAPTURE_END_OFFSET)\n",
    "        while cspk_data[\"ts\"][cspk_offset] < spike_cumulator_range.start:\n",
    "            cspk_offset += 1\n",
    "\n",
    "        while cspk_data[\"ts\"][cspk_offset] < spike_cumulator_range.end:\n",
    "            in_tone_data[tone_number * 2, cspk_data[\"chan\"][cspk_offset][0]-1] += 1\n",
    "            cspk_offset += 1\n",
    "            \n",
    "        spike_cumulator_range = SpikeCountRange(start=tone_offset+TONE_DURATION+OUT_TONE_CAPTURE_START_OFFSET, end=tone_offset+TONE_DURATION+OUT_TONE_CAPTURE_END_OFFSET)\n",
    "        while cspk_data[\"ts\"][cspk_offset] < spike_cumulator_range.start:\n",
    "            cspk_offset += 1\n",
    "\n",
    "        while cspk_data[\"ts\"][cspk_offset] < spike_cumulator_range.end:\n",
    "            in_tone_data[tone_number * 2 + 1, cspk_data[\"chan\"][cspk_offset][0]-1] += 1\n",
    "            cspk_offset += 1\n",
    "\n",
    "\n",
    "#     print(in_tone_data)\n",
    "#     plt.rcParams['figure.figsize'] = [100/2.54, 80/2.54]\n",
    "#     plt.imshow(in_tone_data, cmap='hot', interpolation='nearest')\n",
    "#     plt.show()\n",
    "#     ax = sns.heatmap(in_tone_data, linewidth=0.5)\n",
    "#     plt.show()\n",
    "#     print(\"Out tone data\")\n",
    "#     print(out_tone_data)"
   ]
  },
  {
   "cell_type": "code",
   "execution_count": 15,
   "metadata": {},
   "outputs": [
    {
     "data": {
      "text/plain": [
       "0.2500198399999931"
      ]
     },
     "execution_count": 15,
     "metadata": {},
     "output_type": "execute_result"
    }
   ],
   "source": [
    "filtered[\"epocs\"][\"StiS\"][\"offset\"][0] - filtered[\"epocs\"][\"StiS\"][\"onset\"][0]"
   ]
  },
  {
   "cell_type": "code",
   "execution_count": 16,
   "metadata": {},
   "outputs": [
    {
     "data": {
      "text/plain": [
       "RefC\t[struct]\n",
       "ReBM\t[struct]\n",
       "StBM\t[struct]\n",
       "SweS\t[struct]\n",
       "TriS\t[struct]\n",
       "StiS\t[struct]\n",
       "BloS\t[struct]\n",
       "Tick\t[struct]\n",
       "Chan\t[struct]\n",
       "Attn\t[struct]\n",
       "Samp\t[struct]\n",
       "Freq\t[struct]\n",
       "AFrq\t[struct]\n",
       "Curr\t[struct]"
      ]
     },
     "execution_count": 16,
     "metadata": {},
     "output_type": "execute_result"
    }
   ],
   "source": [
    "filtered[\"epocs\"]"
   ]
  },
  {
   "cell_type": "code",
   "execution_count": 38,
   "metadata": {},
   "outputs": [
    {
     "data": {
      "text/plain": [
       "[(0, (112.48359552000001, 130.68359552)),\n",
       " (1, (234.48242304000001, 252.68242304)),\n",
       " (2, (374.48106112, 392.68106112)),\n",
       " (3, (500.47984768, 518.67984768)),\n",
       " (4, (643.4784576, 661.6784576)),\n",
       " (5, (796.47699072, 814.67699072)),\n",
       " (6, (942.47558272, 960.6755827200001)),\n",
       " (7, (1046.47455872, 1064.67455872)),\n",
       " (8, (1234.47274624, 1252.6727462400002)),\n",
       " (9, (1402.47113856, 1420.6711385600001)),\n",
       " (10, (1567.46953856, 1585.66953856)),\n",
       " (11, (1701.4682432000002, 1719.6682432000002)),\n",
       " (12, (1847.4668556800002, 1865.6668556800003)),\n",
       " (13, (1955.46580096, 1973.66580096)),\n",
       " (14, (2124.46416, 2142.66416)),\n",
       " (15, (2252.46295168, 2270.66295168)),\n",
       " (16, (2407.46142848, 2425.66142848)),\n",
       " (17, (2539.46015872, 2557.66015872)),\n",
       " (18, (2641.45917056, 2659.65917056)),\n",
       " (19, (2780.4578112, 2798.6578111999997)),\n",
       " (20, (2933.4563545600004, 2951.65635456)),\n",
       " (21, (3123.45451648, 3141.65451648)),\n",
       " (22, (3281.45297536, 3299.65297536)),\n",
       " (23, (3451.45139328, 3469.65139328)),\n",
       " (24, (3574.45016704, 3592.65016704)),\n",
       " (25, (3746.44850816, 3764.64850816)),\n",
       " (26, (3874.4472691200003, 3892.64726912)),\n",
       " (27, (4064.44544128, 4082.64544128)),\n",
       " (28, (4223.44391808, 4241.64391808)),\n",
       " (29, (4349.4426944, 4367.6426943999995)),\n",
       " (30, (4531.44093824, 4549.64093824)),\n",
       " (31, (4676.43954304, 4694.63954304)),\n",
       " (32, (4804.43831424, 4822.63831424)),\n",
       " (33, (4962.43678336, 4980.63678336)),\n",
       " (34, (5148.434996479999, 5166.634996479999)),\n",
       " (35, (5310.433445119999, 5328.633445119999)),\n",
       " (36, (5473.43187072, 5491.63187072)),\n",
       " (37, (5579.4308313599995, 5597.630831359999)),\n",
       " (38, (5754.42915456, 5772.62915456)),\n",
       " (39, (5869.42803072, 5887.6280307199995)),\n",
       " (40, (5971.4270528, 5989.6270528)),\n",
       " (41, (6147.42538368, 6165.62538368)),\n",
       " (42, (6329.42360704, 6347.62360704)),\n",
       " (43, (6445.42249088, 6463.6224908799995)),\n",
       " (44, (6581.42116992, 6599.621169919999)),\n",
       " (45, (6766.4193856, 6784.6193856)),\n",
       " (46, (6899.4181132799995, 6917.618113279999)),\n",
       " (47, (7082.4163545599995, 7100.616354559999))]"
      ]
     },
     "execution_count": 38,
     "metadata": {},
     "output_type": "execute_result"
    }
   ],
   "source": [
    "list(enumerate(zip(filtered[\"time_ranges\"][0], filtered[\"time_ranges\"][1])))"
   ]
  },
  {
   "cell_type": "code",
   "execution_count": null,
   "metadata": {},
   "outputs": [],
   "source": []
  }
 ],
 "metadata": {
  "kernelspec": {
   "display_name": "Python 3",
   "language": "python",
   "name": "python3"
  },
  "language_info": {
   "codemirror_mode": {
    "name": "ipython",
    "version": 3
   },
   "file_extension": ".py",
   "mimetype": "text/x-python",
   "name": "python",
   "nbconvert_exporter": "python",
   "pygments_lexer": "ipython3",
   "version": "3.8.2"
  }
 },
 "nbformat": 4,
 "nbformat_minor": 4
}
