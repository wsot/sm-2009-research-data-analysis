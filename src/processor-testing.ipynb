{
 "cells": [
  {
   "cell_type": "markdown",
   "metadata": {},
   "source": [
    "# Processor Testing\n",
    "\n",
    "This is for testing and re-testing the processor. It should be kept to a very small number of cells; essentially, one for set up, one to run the processor, and _maybe_ one to do some smart data caching to avoid excess processing during testing"
   ]
  },
  {
   "cell_type": "code",
   "execution_count": 1,
   "metadata": {},
   "outputs": [],
   "source": [
    "import logging\n",
    "import sys\n",
    "from matplotlib import pyplot as plt\n",
    "\n",
    "logging.basicConfig(format='%(asctime)s | %(levelname)s : %(message)s', level=logging.WARNING, stream=sys.stdout)"
   ]
  },
  {
   "cell_type": "code",
   "execution_count": 2,
   "metadata": {},
   "outputs": [],
   "source": [
    "BLOCK_PATH = \"/Users/smorgan/Documents/tdttmp/Block-1\"\n",
    "# BLOCK_PATH = \"/Volumes/SM Research/Research Data/Simeon Morgan/111_140/2009-07-19 Auditory continuous 10s acclimatisation/2009-07-19 111_140/Block-1\"\n",
    "\n",
    "# Data caches for when running the session processor multiple times\n",
    "block_data = None\n",
    "trial_windows = None"
   ]
  },
  {
   "cell_type": "code",
   "execution_count": 3,
   "metadata": {},
   "outputs": [
    {
     "name": "stderr",
     "output_type": "stream",
     "text": [
      "/Volumes/CaseSensitiveDevPartition/personal/tdt/.venv/lib/python3.8/site-packages/tdt/TDTbin2py.py:792: Warning: tnt file could not be processed\n",
      "  warnings.warn('tnt file could not be processed', Warning)\n"
     ]
    },
    {
     "name": "stdout",
     "output_type": "stream",
     "text": [
      "read from t=0s to t=7457.32s\n"
     ]
    }
   ],
   "source": [
    "from lib import processors\n",
    "from importlib import reload\n",
    "processors = reload(processors)\n",
    "\n",
    "session_processor = processors.SessionProcessor(block_path=BLOCK_PATH)\n",
    "\n",
    "if block_data:\n",
    "    session_processor._block_data = block_data\n",
    "if trial_windows:\n",
    "    session_processor._trial_windows = trial_windows\n",
    "    \n",
    "session_results = session_processor.extract_spikes_from_trial(from_trial_offset=-8.1, to_trial_offset=8.1)\n",
    "\n",
    "block_data = session_processor._block_data\n",
    "trial_windows = session_processor._trial_windows\n"
   ]
  },
  {
   "cell_type": "code",
   "execution_count": 18,
   "metadata": {},
   "outputs": [
    {
     "data": {
      "text/plain": [
       "[Tone(tone_start_timestamp=113.58372864, tone_end_timestamp=114.08367616, inter_tone_interval_end_timestamp=114.33367616, frequency=26000, attenuation=25),\n",
       " Tone(tone_start_timestamp=114.08367616, tone_end_timestamp=114.58369536000001, inter_tone_interval_end_timestamp=114.83369536000001, frequency=26000, attenuation=30),\n",
       " Tone(tone_start_timestamp=114.58369536000001, tone_end_timestamp=115.08366336, inter_tone_interval_end_timestamp=115.33366336, frequency=26000, attenuation=20),\n",
       " Tone(tone_start_timestamp=115.08366336, tone_end_timestamp=115.58368256, inter_tone_interval_end_timestamp=115.83368256, frequency=26000, attenuation=20),\n",
       " Tone(tone_start_timestamp=115.58368256, tone_end_timestamp=116.08367104, inter_tone_interval_end_timestamp=116.33367104, frequency=26000, attenuation=20),\n",
       " Tone(tone_start_timestamp=116.08367104, tone_end_timestamp=116.58366976, inter_tone_interval_end_timestamp=116.83366976, frequency=26000, attenuation=25),\n",
       " Tone(tone_start_timestamp=116.58366976, tone_end_timestamp=117.083648, inter_tone_interval_end_timestamp=117.333648, frequency=26000, attenuation=25),\n",
       " Tone(tone_start_timestamp=117.083648, tone_end_timestamp=117.58374912000001, inter_tone_interval_end_timestamp=117.83374912000001, frequency=26000, attenuation=25),\n",
       " Tone(tone_start_timestamp=117.58374912000001, tone_end_timestamp=118.0836352, inter_tone_interval_end_timestamp=118.3336352, frequency=26000, attenuation=20),\n",
       " Tone(tone_start_timestamp=118.0836352, tone_end_timestamp=118.58363392, inter_tone_interval_end_timestamp=118.83363392, frequency=26000, attenuation=20),\n",
       " Tone(tone_start_timestamp=118.58363392, tone_end_timestamp=119.08363264, inter_tone_interval_end_timestamp=119.33363264, frequency=26000, attenuation=25),\n",
       " Tone(tone_start_timestamp=119.08363264, tone_end_timestamp=119.58363136, inter_tone_interval_end_timestamp=119.83363136, frequency=26000, attenuation=25),\n",
       " Tone(tone_start_timestamp=119.58363136, tone_end_timestamp=120.08363008, inter_tone_interval_end_timestamp=120.33363008, frequency=26000, attenuation=20),\n",
       " Tone(tone_start_timestamp=120.08363008, tone_end_timestamp=120.58361856, inter_tone_interval_end_timestamp=120.83361856, frequency=26000, attenuation=25),\n",
       " Tone(tone_start_timestamp=120.58361856, tone_end_timestamp=121.08361728, inter_tone_interval_end_timestamp=121.33361728, frequency=26000, attenuation=25),\n",
       " Tone(tone_start_timestamp=121.08361728, tone_end_timestamp=121.583616, inter_tone_interval_end_timestamp=121.833616, frequency=26000, attenuation=25),\n",
       " Tone(tone_start_timestamp=121.583616, tone_end_timestamp=122.08359424, inter_tone_interval_end_timestamp=122.33359424, frequency=26000, attenuation=25),\n",
       " Tone(tone_start_timestamp=122.08359424, tone_end_timestamp=122.58359296, inter_tone_interval_end_timestamp=122.83359296, frequency=3000, attenuation=30),\n",
       " Tone(tone_start_timestamp=122.58359296, tone_end_timestamp=123.08360192, inter_tone_interval_end_timestamp=123.33360192, frequency=26000, attenuation=30),\n",
       " Tone(tone_start_timestamp=123.08360192, tone_end_timestamp=123.5835904, inter_tone_interval_end_timestamp=123.8335904, frequency=3000, attenuation=25),\n",
       " Tone(tone_start_timestamp=123.5835904, tone_end_timestamp=124.08358912, inter_tone_interval_end_timestamp=124.33358912, frequency=26000, attenuation=20),\n",
       " Tone(tone_start_timestamp=124.08358912, tone_end_timestamp=124.5835776, inter_tone_interval_end_timestamp=124.8335776, frequency=3000, attenuation=25),\n",
       " Tone(tone_start_timestamp=124.5835776, tone_end_timestamp=125.08357632, inter_tone_interval_end_timestamp=125.33357632, frequency=26000, attenuation=30),\n",
       " Tone(tone_start_timestamp=125.08357632, tone_end_timestamp=125.58357504, inter_tone_interval_end_timestamp=125.83357504, frequency=3000, attenuation=20),\n",
       " Tone(tone_start_timestamp=125.58357504, tone_end_timestamp=126.08356352, inter_tone_interval_end_timestamp=126.33356352, frequency=26000, attenuation=20),\n",
       " Tone(tone_start_timestamp=126.08356352, tone_end_timestamp=126.58357248, inter_tone_interval_end_timestamp=126.83357248, frequency=3000, attenuation=25),\n",
       " Tone(tone_start_timestamp=126.58357248, tone_end_timestamp=127.08355072, inter_tone_interval_end_timestamp=127.33355072, frequency=26000, attenuation=25),\n",
       " Tone(tone_start_timestamp=127.08355072, tone_end_timestamp=127.58354944, inter_tone_interval_end_timestamp=127.83354944, frequency=3000, attenuation=25),\n",
       " Tone(tone_start_timestamp=127.58354944, tone_end_timestamp=128.08354816, inter_tone_interval_end_timestamp=128.33354816, frequency=26000, attenuation=25),\n",
       " Tone(tone_start_timestamp=128.08354816, tone_end_timestamp=128.58354688, inter_tone_interval_end_timestamp=128.83354688, frequency=3000, attenuation=25),\n",
       " Tone(tone_start_timestamp=128.58354688, tone_end_timestamp=129.08353536, inter_tone_interval_end_timestamp=129.33353536, frequency=26000, attenuation=25),\n",
       " Tone(tone_start_timestamp=129.08353536, tone_end_timestamp=129.58352384, inter_tone_interval_end_timestamp=129.83352384, frequency=3000, attenuation=30)]"
      ]
     },
     "execution_count": 18,
     "metadata": {},
     "output_type": "execute_result"
    }
   ],
   "source": [
    "session_results.trials[0].tones\n",
    "# plt.rcParams[\"figure.figsize\"] = [100 / 2.54, 80 / 2.54]\n",
    "# plt.imshow(session_results.trials[0].in_tone_spike_counts, cmap=\"hot\", interpolation=\"nearest\")\n",
    "# plt.show()\n",
    "\n",
    "# plt.rcParams[\"figure.figsize\"] = [100 / 2.54, 80 / 2.54]\n",
    "# plt.imshow(session_results.trials[0].out_tone_spike_counts, cmap=\"hot\", interpolation=\"nearest\")\n",
    "# plt.show()\n"
   ]
  },
  {
   "cell_type": "code",
   "execution_count": null,
   "metadata": {},
   "outputs": [],
   "source": []
  }
 ],
 "metadata": {
  "kernelspec": {
   "display_name": "Python 3",
   "language": "python",
   "name": "python3"
  },
  "language_info": {
   "codemirror_mode": {
    "name": "ipython",
    "version": 3
   },
   "file_extension": ".py",
   "mimetype": "text/x-python",
   "name": "python",
   "nbconvert_exporter": "python",
   "pygments_lexer": "ipython3",
   "version": "3.8.2"
  }
 },
 "nbformat": 4,
 "nbformat_minor": 4
}
