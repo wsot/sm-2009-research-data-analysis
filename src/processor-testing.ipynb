{
 "cells": [
  {
   "cell_type": "markdown",
   "metadata": {},
   "source": [
    "# Processor Testing\n",
    "\n",
    "This is for testing and re-testing the processor. It should be kept to a very small number of cells; essentially, one for set up, one to run the processor, and _maybe_ one to do some smart data caching to avoid excess processing during testing"
   ]
  },
  {
   "cell_type": "code",
   "execution_count": 1,
   "metadata": {},
   "outputs": [],
   "source": [
    "import logging\n",
    "import sys\n",
    "\n",
    "logging.basicConfig(format='%(asctime)s | %(levelname)s : %(message)s', level=logging.INFO, stream=sys.stdout)"
   ]
  },
  {
   "cell_type": "code",
   "execution_count": 2,
   "metadata": {},
   "outputs": [],
   "source": [
    "BLOCK_PATH = \"/Users/smorgan/Documents/tdttmp/Block-1\"\n",
    "# BLOCK_PATH = \"/Volumes/SM Research/Research Data/Simeon Morgan/111_140/2009-07-19 Auditory continuous 10s acclimatisation/2009-07-19 111_140/Block-1\"\n",
    "\n",
    "# Data caches for when running the session processor multiple times\n",
    "block_data = None\n",
    "trial_windows = None"
   ]
  },
  {
   "cell_type": "code",
   "execution_count": 3,
   "metadata": {},
   "outputs": [
    {
     "name": "stderr",
     "output_type": "stream",
     "text": [
      "/Volumes/CaseSensitiveDevPartition/personal/tdt/.venv/lib/python3.8/site-packages/tdt/TDTbin2py.py:792: Warning: tnt file could not be processed\n",
      "  warnings.warn('tnt file could not be processed', Warning)\n"
     ]
    },
    {
     "name": "stdout",
     "output_type": "stream",
     "text": [
      "read from t=0s to t=7457.32s\n",
      "2020-08-25 21:07:14,200 | INFO : Time for TDT epoc_filter: 0:00:17.796823\n",
      "2020-08-25 21:07:14,201 | INFO : Starting processing of trial number 1, start timestamp 113.48359552000001, end timestamp 129.68359552\n",
      "2020-08-25 21:07:14,201 | INFO : Found first stimulus onset after trial start: stimulus_epoch_idx: 0, timestamp: 113.58372864\n",
      "2020-08-25 21:07:14,206 | INFO : Starting processing of trial number 2, start timestamp 235.48242304000001, end timestamp 251.68242304\n",
      "2020-08-25 21:07:14,207 | INFO : Found first stimulus onset after trial start: stimulus_epoch_idx: 33, timestamp: 235.58250496\n",
      "2020-08-25 21:07:14,209 | INFO : Starting processing of trial number 3, start timestamp 375.48106112, end timestamp 391.68106112\n",
      "2020-08-25 21:07:14,213 | INFO : Found first stimulus onset after trial start: stimulus_epoch_idx: 66, timestamp: 375.58116352\n",
      "2020-08-25 21:07:14,218 | INFO : Starting processing of trial number 4, start timestamp 501.47984768, end timestamp 517.67984768\n",
      "2020-08-25 21:07:14,219 | INFO : Found first stimulus onset after trial start: stimulus_epoch_idx: 99, timestamp: 501.57995008\n",
      "2020-08-25 21:07:14,223 | INFO : Starting processing of trial number 5, start timestamp 644.4784576, end timestamp 660.6784576\n",
      "2020-08-25 21:07:14,228 | INFO : Found first stimulus onset after trial start: stimulus_epoch_idx: 132, timestamp: 644.57854976\n",
      "2020-08-25 21:07:14,229 | INFO : Starting processing of trial number 6, start timestamp 797.47699072, end timestamp 813.67699072\n",
      "2020-08-25 21:07:14,230 | INFO : Found first stimulus onset after trial start: stimulus_epoch_idx: 165, timestamp: 797.57707264\n",
      "2020-08-25 21:07:14,235 | INFO : Starting processing of trial number 7, start timestamp 943.47558272, end timestamp 959.6755827200001\n",
      "2020-08-25 21:07:14,238 | INFO : Found first stimulus onset after trial start: stimulus_epoch_idx: 198, timestamp: 943.57568512\n",
      "2020-08-25 21:07:14,241 | INFO : Starting processing of trial number 8, start timestamp 1047.47455872, end timestamp 1063.67455872\n",
      "2020-08-25 21:07:14,244 | INFO : Found first stimulus onset after trial start: stimulus_epoch_idx: 231, timestamp: 1047.57467136\n",
      "2020-08-25 21:07:14,246 | INFO : Starting processing of trial number 9, start timestamp 1235.47274624, end timestamp 1251.6727462400002\n",
      "2020-08-25 21:07:14,250 | INFO : Found first stimulus onset after trial start: stimulus_epoch_idx: 264, timestamp: 1235.57286912\n",
      "2020-08-25 21:07:14,252 | INFO : Starting processing of trial number 10, start timestamp 1403.47113856, end timestamp 1419.6711385600001\n",
      "2020-08-25 21:07:14,258 | INFO : Found first stimulus onset after trial start: stimulus_epoch_idx: 297, timestamp: 1403.5712307200001\n",
      "2020-08-25 21:07:14,262 | INFO : Starting processing of trial number 11, start timestamp 1568.46953856, end timestamp 1584.66953856\n",
      "2020-08-25 21:07:14,265 | INFO : Found first stimulus onset after trial start: stimulus_epoch_idx: 330, timestamp: 1568.56969216\n",
      "2020-08-25 21:07:14,268 | INFO : Starting processing of trial number 12, start timestamp 1702.4682432000002, end timestamp 1718.6682432000002\n",
      "2020-08-25 21:07:14,272 | INFO : Found first stimulus onset after trial start: stimulus_epoch_idx: 363, timestamp: 1702.56832512\n",
      "2020-08-25 21:07:14,276 | INFO : Starting processing of trial number 13, start timestamp 1848.4668556800002, end timestamp 1864.6668556800003\n",
      "2020-08-25 21:07:14,278 | INFO : Found first stimulus onset after trial start: stimulus_epoch_idx: 396, timestamp: 1848.5669376\n",
      "2020-08-25 21:07:14,281 | INFO : Starting processing of trial number 14, start timestamp 1956.46580096, end timestamp 1972.66580096\n",
      "2020-08-25 21:07:14,284 | INFO : Found first stimulus onset after trial start: stimulus_epoch_idx: 429, timestamp: 1956.5658828800001\n",
      "2020-08-25 21:07:14,292 | INFO : Starting processing of trial number 15, start timestamp 2125.46416, end timestamp 2141.66416\n",
      "2020-08-25 21:07:14,294 | INFO : Found first stimulus onset after trial start: stimulus_epoch_idx: 462, timestamp: 2125.5642624\n",
      "2020-08-25 21:07:14,297 | INFO : Starting processing of trial number 16, start timestamp 2253.46295168, end timestamp 2269.66295168\n",
      "2020-08-25 21:07:14,302 | INFO : Found first stimulus onset after trial start: stimulus_epoch_idx: 495, timestamp: 2253.56301312\n",
      "2020-08-25 21:07:14,305 | INFO : Starting processing of trial number 17, start timestamp 2408.46142848, end timestamp 2424.66142848\n",
      "2020-08-25 21:07:14,314 | INFO : Found first stimulus onset after trial start: stimulus_epoch_idx: 528, timestamp: 2408.5615206400003\n",
      "2020-08-25 21:07:14,317 | INFO : Starting processing of trial number 18, start timestamp 2540.46015872, end timestamp 2556.66015872\n",
      "2020-08-25 21:07:14,319 | INFO : Found first stimulus onset after trial start: stimulus_epoch_idx: 561, timestamp: 2540.56026112\n",
      "2020-08-25 21:07:14,324 | INFO : Starting processing of trial number 19, start timestamp 2642.45917056, end timestamp 2658.65917056\n",
      "2020-08-25 21:07:14,327 | INFO : Found first stimulus onset after trial start: stimulus_epoch_idx: 594, timestamp: 2642.55926272\n",
      "2020-08-25 21:07:14,329 | INFO : Starting processing of trial number 20, start timestamp 2781.4578112, end timestamp 2797.6578111999997\n",
      "2020-08-25 21:07:14,330 | INFO : Found first stimulus onset after trial start: stimulus_epoch_idx: 627, timestamp: 2781.55790336\n",
      "2020-08-25 21:07:14,332 | INFO : Starting processing of trial number 21, start timestamp 2934.4563545600004, end timestamp 2950.65635456\n",
      "2020-08-25 21:07:14,336 | INFO : Found first stimulus onset after trial start: stimulus_epoch_idx: 660, timestamp: 2934.55644672\n",
      "2020-08-25 21:07:14,337 | INFO : Starting processing of trial number 22, start timestamp 3124.45451648, end timestamp 3140.65451648\n",
      "2020-08-25 21:07:14,339 | INFO : Found first stimulus onset after trial start: stimulus_epoch_idx: 693, timestamp: 3124.55460864\n",
      "2020-08-25 21:07:14,340 | INFO : Starting processing of trial number 23, start timestamp 3282.45297536, end timestamp 3298.65297536\n",
      "2020-08-25 21:07:14,341 | INFO : Found first stimulus onset after trial start: stimulus_epoch_idx: 726, timestamp: 3282.55309824\n",
      "2020-08-25 21:07:14,342 | INFO : Starting processing of trial number 24, start timestamp 3452.45139328, end timestamp 3468.65139328\n",
      "2020-08-25 21:07:14,343 | INFO : Found first stimulus onset after trial start: stimulus_epoch_idx: 759, timestamp: 3452.55146496\n",
      "2020-08-25 21:07:14,343 | INFO : Starting processing of trial number 25, start timestamp 3575.45016704, end timestamp 3591.65016704\n",
      "2020-08-25 21:07:14,344 | INFO : Found first stimulus onset after trial start: stimulus_epoch_idx: 792, timestamp: 3575.55024896\n",
      "2020-08-25 21:07:14,345 | INFO : Starting processing of trial number 26, start timestamp 3747.44850816, end timestamp 3763.64850816\n",
      "2020-08-25 21:07:14,346 | INFO : Found first stimulus onset after trial start: stimulus_epoch_idx: 825, timestamp: 3747.54859008\n",
      "2020-08-25 21:07:14,347 | INFO : Starting processing of trial number 27, start timestamp 3875.4472691200003, end timestamp 3891.64726912\n",
      "2020-08-25 21:07:14,351 | INFO : Found first stimulus onset after trial start: stimulus_epoch_idx: 858, timestamp: 3875.54736128\n",
      "2020-08-25 21:07:14,352 | INFO : Starting processing of trial number 28, start timestamp 4065.44544128, end timestamp 4081.64544128\n",
      "2020-08-25 21:07:14,354 | INFO : Found first stimulus onset after trial start: stimulus_epoch_idx: 891, timestamp: 4065.5455232\n",
      "2020-08-25 21:07:14,355 | INFO : Starting processing of trial number 29, start timestamp 4224.44391808, end timestamp 4240.64391808\n",
      "2020-08-25 21:07:14,356 | INFO : Found first stimulus onset after trial start: stimulus_epoch_idx: 924, timestamp: 4224.54401024\n",
      "2020-08-25 21:07:14,358 | INFO : Starting processing of trial number 30, start timestamp 4350.4426944, end timestamp 4366.6426943999995\n",
      "2020-08-25 21:07:14,358 | INFO : Found first stimulus onset after trial start: stimulus_epoch_idx: 957, timestamp: 4350.54278656\n",
      "2020-08-25 21:07:14,359 | INFO : Starting processing of trial number 31, start timestamp 4532.44093824, end timestamp 4548.64093824\n",
      "2020-08-25 21:07:14,360 | INFO : Found first stimulus onset after trial start: stimulus_epoch_idx: 990, timestamp: 4532.5410304\n",
      "2020-08-25 21:07:14,362 | INFO : Starting processing of trial number 32, start timestamp 4677.43954304, end timestamp 4693.63954304\n",
      "2020-08-25 21:07:14,363 | INFO : Found first stimulus onset after trial start: stimulus_epoch_idx: 1023, timestamp: 4677.53964544\n",
      "2020-08-25 21:07:14,366 | INFO : Starting processing of trial number 33, start timestamp 4805.43831424, end timestamp 4821.63831424\n",
      "2020-08-25 21:07:14,368 | INFO : Found first stimulus onset after trial start: stimulus_epoch_idx: 1056, timestamp: 4805.53841664\n",
      "2020-08-25 21:07:14,369 | INFO : Starting processing of trial number 34, start timestamp 4963.43678336, end timestamp 4979.63678336\n",
      "2020-08-25 21:07:14,370 | INFO : Found first stimulus onset after trial start: stimulus_epoch_idx: 1089, timestamp: 4963.53687552\n",
      "2020-08-25 21:07:14,372 | INFO : Starting processing of trial number 35, start timestamp 5149.434996479999, end timestamp 5165.634996479999\n",
      "2020-08-25 21:07:14,373 | INFO : Found first stimulus onset after trial start: stimulus_epoch_idx: 1122, timestamp: 5149.5350784\n",
      "2020-08-25 21:07:14,374 | INFO : Starting processing of trial number 36, start timestamp 5311.433445119999, end timestamp 5327.633445119999\n",
      "2020-08-25 21:07:14,375 | INFO : Found first stimulus onset after trial start: stimulus_epoch_idx: 1155, timestamp: 5311.53352704\n",
      "2020-08-25 21:07:14,377 | INFO : Starting processing of trial number 37, start timestamp 5474.43187072, end timestamp 5490.63187072\n",
      "2020-08-25 21:07:14,378 | INFO : Found first stimulus onset after trial start: stimulus_epoch_idx: 1188, timestamp: 5474.53195264\n",
      "2020-08-25 21:07:14,379 | INFO : Starting processing of trial number 38, start timestamp 5580.4308313599995, end timestamp 5596.630831359999\n",
      "2020-08-25 21:07:14,380 | INFO : Found first stimulus onset after trial start: stimulus_epoch_idx: 1221, timestamp: 5580.530944\n",
      "2020-08-25 21:07:14,381 | INFO : Starting processing of trial number 39, start timestamp 5755.42915456, end timestamp 5771.62915456\n",
      "2020-08-25 21:07:14,383 | INFO : Found first stimulus onset after trial start: stimulus_epoch_idx: 1254, timestamp: 5755.52923648\n",
      "2020-08-25 21:07:14,385 | INFO : Starting processing of trial number 40, start timestamp 5870.42803072, end timestamp 5886.6280307199995\n",
      "2020-08-25 21:07:14,386 | INFO : Found first stimulus onset after trial start: stimulus_epoch_idx: 1287, timestamp: 5870.52813312\n",
      "2020-08-25 21:07:14,388 | INFO : Starting processing of trial number 41, start timestamp 5972.4270528, end timestamp 5988.6270528\n",
      "2020-08-25 21:07:14,389 | INFO : Found first stimulus onset after trial start: stimulus_epoch_idx: 1320, timestamp: 5972.5271552\n",
      "2020-08-25 21:07:14,391 | INFO : Starting processing of trial number 42, start timestamp 6148.42538368, end timestamp 6164.62538368\n",
      "2020-08-25 21:07:14,392 | INFO : Found first stimulus onset after trial start: stimulus_epoch_idx: 1353, timestamp: 6148.52545536\n",
      "2020-08-25 21:07:14,394 | INFO : Starting processing of trial number 43, start timestamp 6330.42360704, end timestamp 6346.62360704\n",
      "2020-08-25 21:07:14,395 | INFO : Found first stimulus onset after trial start: stimulus_epoch_idx: 1386, timestamp: 6330.52368896\n",
      "2020-08-25 21:07:14,396 | INFO : Starting processing of trial number 44, start timestamp 6446.42249088, end timestamp 6462.6224908799995\n",
      "2020-08-25 21:07:14,397 | INFO : Found first stimulus onset after trial start: stimulus_epoch_idx: 1419, timestamp: 6446.5225728000005\n",
      "2020-08-25 21:07:14,402 | INFO : Starting processing of trial number 45, start timestamp 6582.42116992, end timestamp 6598.621169919999\n",
      "2020-08-25 21:07:14,403 | INFO : Found first stimulus onset after trial start: stimulus_epoch_idx: 1452, timestamp: 6582.52128256\n",
      "2020-08-25 21:07:14,404 | INFO : Starting processing of trial number 46, start timestamp 6767.4193856, end timestamp 6783.6193856\n",
      "2020-08-25 21:07:14,405 | INFO : Found first stimulus onset after trial start: stimulus_epoch_idx: 1485, timestamp: 6767.519488\n",
      "2020-08-25 21:07:14,407 | INFO : Starting processing of trial number 47, start timestamp 6900.4181132799995, end timestamp 6916.618113279999\n",
      "2020-08-25 21:07:14,408 | INFO : Found first stimulus onset after trial start: stimulus_epoch_idx: 1518, timestamp: 6900.51818496\n",
      "2020-08-25 21:07:14,410 | INFO : Starting processing of trial number 48, start timestamp 7083.4163545599995, end timestamp 7099.616354559999\n",
      "2020-08-25 21:07:14,412 | INFO : Found first stimulus onset after trial start: stimulus_epoch_idx: 1551, timestamp: 7083.51642624\n"
     ]
    }
   ],
   "source": [
    "from lib import processors\n",
    "from importlib import reload\n",
    "processors = reload(processors)\n",
    "\n",
    "session_processor = processors.SessionProcessor(block_path=BLOCK_PATH)\n",
    "\n",
    "if block_data:\n",
    "    session_processor._block_data = block_data\n",
    "if trial_windows:\n",
    "    session_processor._trial_windows = trial_windows\n",
    "    \n",
    "session_results = session_processor.extract_spikes_from_trial(from_trial_offset=-8.1, to_trial_offset=8.1)\n",
    "\n",
    "block_data = session_processor._block_data\n",
    "trial_windows = session_processor._trial_windows\n"
   ]
  },
  {
   "cell_type": "code",
   "execution_count": 6,
   "metadata": {},
   "outputs": [
    {
     "data": {
      "text/plain": [
       "[Tone(tone_start_timestamp=113.58372864, tone_end_timestamp=114.08367616, inter_tone_interval_end_timestamp=114.33367616, frequency=26000, attenuation=25),\n",
       " Tone(tone_start_timestamp=114.08367616, tone_end_timestamp=114.58369536000001, inter_tone_interval_end_timestamp=114.83369536000001, frequency=26000, attenuation=30),\n",
       " Tone(tone_start_timestamp=114.58369536000001, tone_end_timestamp=115.08366336, inter_tone_interval_end_timestamp=115.33366336, frequency=26000, attenuation=20),\n",
       " Tone(tone_start_timestamp=115.08366336, tone_end_timestamp=115.58368256, inter_tone_interval_end_timestamp=115.83368256, frequency=26000, attenuation=20),\n",
       " Tone(tone_start_timestamp=115.58368256, tone_end_timestamp=116.08367104, inter_tone_interval_end_timestamp=116.33367104, frequency=26000, attenuation=20),\n",
       " Tone(tone_start_timestamp=116.08367104, tone_end_timestamp=116.58366976, inter_tone_interval_end_timestamp=116.83366976, frequency=26000, attenuation=25),\n",
       " Tone(tone_start_timestamp=116.58366976, tone_end_timestamp=117.083648, inter_tone_interval_end_timestamp=117.333648, frequency=26000, attenuation=25),\n",
       " Tone(tone_start_timestamp=117.083648, tone_end_timestamp=117.58374912000001, inter_tone_interval_end_timestamp=117.83374912000001, frequency=26000, attenuation=25),\n",
       " Tone(tone_start_timestamp=117.58374912000001, tone_end_timestamp=118.0836352, inter_tone_interval_end_timestamp=118.3336352, frequency=26000, attenuation=20),\n",
       " Tone(tone_start_timestamp=118.0836352, tone_end_timestamp=118.58363392, inter_tone_interval_end_timestamp=118.83363392, frequency=26000, attenuation=20),\n",
       " Tone(tone_start_timestamp=118.58363392, tone_end_timestamp=119.08363264, inter_tone_interval_end_timestamp=119.33363264, frequency=26000, attenuation=25),\n",
       " Tone(tone_start_timestamp=119.08363264, tone_end_timestamp=119.58363136, inter_tone_interval_end_timestamp=119.83363136, frequency=26000, attenuation=25),\n",
       " Tone(tone_start_timestamp=119.58363136, tone_end_timestamp=120.08363008, inter_tone_interval_end_timestamp=120.33363008, frequency=26000, attenuation=20),\n",
       " Tone(tone_start_timestamp=120.08363008, tone_end_timestamp=120.58361856, inter_tone_interval_end_timestamp=120.83361856, frequency=26000, attenuation=25),\n",
       " Tone(tone_start_timestamp=120.58361856, tone_end_timestamp=121.08361728, inter_tone_interval_end_timestamp=121.33361728, frequency=26000, attenuation=25),\n",
       " Tone(tone_start_timestamp=121.08361728, tone_end_timestamp=121.583616, inter_tone_interval_end_timestamp=121.833616, frequency=26000, attenuation=25),\n",
       " Tone(tone_start_timestamp=121.583616, tone_end_timestamp=122.08359424, inter_tone_interval_end_timestamp=122.33359424, frequency=26000, attenuation=25),\n",
       " Tone(tone_start_timestamp=122.08359424, tone_end_timestamp=122.58359296, inter_tone_interval_end_timestamp=122.83359296, frequency=3000, attenuation=30),\n",
       " Tone(tone_start_timestamp=122.58359296, tone_end_timestamp=123.08360192, inter_tone_interval_end_timestamp=123.33360192, frequency=26000, attenuation=30),\n",
       " Tone(tone_start_timestamp=123.08360192, tone_end_timestamp=123.5835904, inter_tone_interval_end_timestamp=123.8335904, frequency=3000, attenuation=25),\n",
       " Tone(tone_start_timestamp=123.5835904, tone_end_timestamp=124.08358912, inter_tone_interval_end_timestamp=124.33358912, frequency=26000, attenuation=20),\n",
       " Tone(tone_start_timestamp=124.08358912, tone_end_timestamp=124.5835776, inter_tone_interval_end_timestamp=124.8335776, frequency=3000, attenuation=25),\n",
       " Tone(tone_start_timestamp=124.5835776, tone_end_timestamp=125.08357632, inter_tone_interval_end_timestamp=125.33357632, frequency=26000, attenuation=30),\n",
       " Tone(tone_start_timestamp=125.08357632, tone_end_timestamp=125.58357504, inter_tone_interval_end_timestamp=125.83357504, frequency=3000, attenuation=20),\n",
       " Tone(tone_start_timestamp=125.58357504, tone_end_timestamp=126.08356352, inter_tone_interval_end_timestamp=126.33356352, frequency=26000, attenuation=20),\n",
       " Tone(tone_start_timestamp=126.08356352, tone_end_timestamp=126.58357248, inter_tone_interval_end_timestamp=126.83357248, frequency=3000, attenuation=25),\n",
       " Tone(tone_start_timestamp=126.58357248, tone_end_timestamp=127.08355072, inter_tone_interval_end_timestamp=127.33355072, frequency=26000, attenuation=25),\n",
       " Tone(tone_start_timestamp=127.08355072, tone_end_timestamp=127.58354944, inter_tone_interval_end_timestamp=127.83354944, frequency=3000, attenuation=25),\n",
       " Tone(tone_start_timestamp=127.58354944, tone_end_timestamp=128.08354816, inter_tone_interval_end_timestamp=128.33354816, frequency=26000, attenuation=25),\n",
       " Tone(tone_start_timestamp=128.08354816, tone_end_timestamp=128.58354688, inter_tone_interval_end_timestamp=128.83354688, frequency=3000, attenuation=25),\n",
       " Tone(tone_start_timestamp=128.58354688, tone_end_timestamp=129.08353536, inter_tone_interval_end_timestamp=129.33353536, frequency=26000, attenuation=25),\n",
       " Tone(tone_start_timestamp=129.08353536, tone_end_timestamp=129.58352384, inter_tone_interval_end_timestamp=129.83352384, frequency=3000, attenuation=30)]"
      ]
     },
     "execution_count": 6,
     "metadata": {},
     "output_type": "execute_result"
    }
   ],
   "source": [
    "session_results.trials[0].tones"
   ]
  },
  {
   "cell_type": "code",
   "execution_count": null,
   "metadata": {},
   "outputs": [],
   "source": []
  }
 ],
 "metadata": {
  "kernelspec": {
   "display_name": "Python 3",
   "language": "python",
   "name": "python3"
  },
  "language_info": {
   "codemirror_mode": {
    "name": "ipython",
    "version": 3
   },
   "file_extension": ".py",
   "mimetype": "text/x-python",
   "name": "python",
   "nbconvert_exporter": "python",
   "pygments_lexer": "ipython3",
   "version": "3.8.2"
  }
 },
 "nbformat": 4,
 "nbformat_minor": 4
}
