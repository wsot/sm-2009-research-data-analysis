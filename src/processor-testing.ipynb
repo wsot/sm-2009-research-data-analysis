{
 "cells": [
  {
   "cell_type": "markdown",
   "metadata": {},
   "source": [
    "# Processor Testing\n",
    "\n",
    "This is for testing and re-testing the processor. It should be kept to a very small number of cells; essentially, one for set up, one to run the processor, and _maybe_ one to do some smart data caching to avoid excess processing during testing"
   ]
  },
  {
   "cell_type": "code",
   "execution_count": 2,
   "metadata": {},
   "outputs": [],
   "source": [
    "import logging\n",
    "import sys\n",
    "from matplotlib import pyplot as plt\n",
    "import numpy as np\n",
    "import pathlib\n",
    "\n",
    "logging.basicConfig(format='%(asctime)s | %(levelname)s : %(message)s', level=logging.WARNING, stream=sys.stdout)"
   ]
  },
  {
   "cell_type": "code",
   "execution_count": 3,
   "metadata": {},
   "outputs": [],
   "source": [
    "BLOCK_PATH = \"/Users/smorgan/Documents/tdttmp/Block-1\"\n",
    "# BLOCK_PATH = \"/Volumes/SM Research/Research Data/Simeon Morgan/111_140/2009-07-19 Auditory continuous 10s acclimatisation/2009-07-19 111_140/Block-1\"\n",
    "\n",
    "# Data caches for when running the session processor multiple times\n",
    "block_data = None\n",
    "trial_windows = None"
   ]
  },
  {
   "cell_type": "code",
   "execution_count": 25,
   "metadata": {},
   "outputs": [],
   "source": [
    "from lib import processors, structures\n",
    "from importlib import reload\n",
    "processors = reload(processors)\n",
    "structures = reload(structures)"
   ]
  },
  {
   "cell_type": "code",
   "execution_count": 27,
   "metadata": {},
   "outputs": [],
   "source": [
    "channel_remapper = structures.ChannelRemapper.from_autofind_in_path(pathlib.Path(BLOCK_PATH))"
   ]
  },
  {
   "cell_type": "code",
   "execution_count": 29,
   "metadata": {},
   "outputs": [
    {
     "name": "stderr",
     "output_type": "stream",
     "text": [
      "/Volumes/CaseSensitiveDevPartition/personal/tdt/.venv/lib/python3.8/site-packages/tdt/TDTbin2py.py:792: Warning: tnt file could not be processed\n",
      "  warnings.warn('tnt file could not be processed', Warning)\n"
     ]
    },
    {
     "name": "stdout",
     "output_type": "stream",
     "text": [
      "read from t=0s to t=7457.32s\n"
     ]
    }
   ],
   "source": [
    "\n",
    "session_processor = processors.SessionProcessor(block_path=BLOCK_PATH)\n",
    "\n",
    "if block_data:\n",
    "    session_processor._block_data = block_data\n",
    "if trial_windows:\n",
    "    session_processor._trial_windows = trial_windows\n",
    "\n",
    "session_results = session_processor.extract_spikes_from_trial(from_trial_offset=-8.1, to_trial_offset=8.6, data_processors=[channel_remapper])\n",
    "\n",
    "block_data = session_processor._block_data\n",
    "trial_windows = session_processor._trial_windows\n"
   ]
  },
  {
   "cell_type": "code",
   "execution_count": 30,
   "metadata": {},
   "outputs": [],
   "source": [
    "import openpyxl\n",
    "import itertools\n",
    "from lib import structures\n",
    "from dataclasses import dataclass\n",
    "\n",
    "import typing as t\n",
    "\n",
    "from lib import writer\n",
    "from importlib import reload\n",
    "writer = reload(writer)\n",
    "\n",
    "\n",
    "DESTINATION_FILENAME = 'output1.xlsx'\n",
    "writer.write_everything(session_results, DESTINATION_FILENAME)\n",
    "\n",
    "\n",
    "# session_results.trials[0].tones\n",
    "# np.set_printoptions(threshold=sys.maxsize)\n",
    "# plt.rcParams[\"figure.figsize\"] = [100 / 2.54, 80 / 2.54]\n",
    "# plt.imshow(session_results.trials[0].in_stimulus_spike_counts, cmap=\"hot\", interpolation=\"nearest\")\n",
    "# plt.show()\n",
    "\n",
    "# plt.rcParams[\"figure.figsize\"] = [100 / 2.54, 80 / 2.54]\n",
    "# plt.imshow(session_results.trials[0].out_stimulus_spike_counts, cmap=\"hot\", interpolation=\"nearest\")\n",
    "# plt.show()\n"
   ]
  },
  {
   "cell_type": "code",
   "execution_count": 98,
   "metadata": {},
   "outputs": [
    {
     "data": {
      "text/plain": [
       "array([19, 20, 19, 18, 19, 15, 17, 20, 18, 19, 17, 20, 20, 19, 20, 17, 18,\n",
       "       20, 19, 20, 18, 20, 15, 16,  6, 16, 11,  9, 13, 15, 20, 19],\n",
       "      dtype=uint64)"
      ]
     },
     "execution_count": 98,
     "metadata": {},
     "output_type": "execute_result"
    }
   ],
   "source": [
    "session_results.trials[0].in_stimulus_spike_counts[:, 16]"
   ]
  },
  {
   "cell_type": "code",
   "execution_count": 102,
   "metadata": {},
   "outputs": [
    {
     "data": {
      "text/plain": [
       "(10, 20)"
      ]
     },
     "execution_count": 102,
     "metadata": {},
     "output_type": "execute_result"
    }
   ],
   "source": [
    "np.zeros((10, 20), np.float64).shape"
   ]
  },
  {
   "cell_type": "code",
   "execution_count": null,
   "metadata": {},
   "outputs": [],
   "source": []
  }
 ],
 "metadata": {
  "kernelspec": {
   "display_name": "Python 3",
   "language": "python",
   "name": "python3"
  },
  "language_info": {
   "codemirror_mode": {
    "name": "ipython",
    "version": 3
   },
   "file_extension": ".py",
   "mimetype": "text/x-python",
   "name": "python",
   "nbconvert_exporter": "python",
   "pygments_lexer": "ipython3",
   "version": "3.8.2"
  }
 },
 "nbformat": 4,
 "nbformat_minor": 4
}
