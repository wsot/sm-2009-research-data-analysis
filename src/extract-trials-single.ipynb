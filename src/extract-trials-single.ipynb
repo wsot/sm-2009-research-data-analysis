{
 "cells": [
  {
   "cell_type": "markdown",
   "metadata": {},
   "source": [
    "# Extract Trials Single\n",
    "\n",
    "Intended as a convience interface to use data processing library interfaces to pull out single session data.\n",
    "\n",
    "This should get replaced with a proper CLI (or some other interface), but in the meantime this can be used to\n",
    "run analysis. It should do absolutely nothing but call other libraries and provide absolute minimum glue code.\n",
    "As a result, it should only ever have one code cell. *Ever*.\n",
    "\n",
    "If this starts doing things like directory trawling, something has gone terribly wrong and someone (no doubt me)\n",
    "needs to be beaten with a stick."
   ]
  },
  {
   "cell_type": "code",
   "execution_count": 66,
   "metadata": {},
   "outputs": [],
   "source": [
    "from lib import processors\n",
    "from importlib import reload\n",
    "processors = reload(processors)\n",
    "\n",
    "BLOCK_PATH = \"/Users/smorgan/Documents/tdttmp/Block-1\"\n",
    "# BLOCK_PATH = \"/Volumes/SM Research/Research Data/Simeon Morgan/111_140/2009-07-19 Auditory continuous 10s acclimatisation/2009-07-19 111_140/Block-1\"\n",
    "\n",
    "import logging\n",
    "import sys\n",
    "\n",
    "logging.basicConfig(format='%(asctime)s | %(levelname)s : %(message)s', level=logging.DEBUG, stream=sys.stdout)\n",
    "\n",
    "session_processor = processors.SessionProcessor(block_path=BLOCK_PATH)\n",
    "session_results = session_processor.extract_spikes_from_trial(from_trial_offset=-8.1, to_trial_offset=8.1)"
   ]
  }
 ],
 "metadata": {
  "kernelspec": {
   "display_name": "Python 3",
   "language": "python",
   "name": "python3"
  },
  "language_info": {
   "codemirror_mode": {
    "name": "ipython",
    "version": 3
   },
   "file_extension": ".py",
   "mimetype": "text/x-python",
   "name": "python",
   "nbconvert_exporter": "python",
   "pygments_lexer": "ipython3",
   "version": "3.8.2"
  }
 },
 "nbformat": 4,
 "nbformat_minor": 4
}
