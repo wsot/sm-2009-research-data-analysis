{
 "cells": [
  {
   "cell_type": "markdown",
   "metadata": {},
   "source": [
    "# Extract Trials Single\n",
    "\n",
    "Intended as a convience interface to use data processing library interfaces to pull out single session data.\n",
    "\n",
    "This should get replaced with a proper CLI (or some other interface), but in the meantime this can be used to\n",
    "run analysis. It should do absolutely nothing but call other libraries and provide absolute minimum glue code.\n",
    "As a result, it should only ever have one code cell. *Ever*.\n",
    "\n",
    "If this starts doing things like directory trawling, something has gone terribly wrong and someone (no doubt me)\n",
    "needs to be beaten with a stick."
   ]
  },
  {
   "cell_type": "code",
   "execution_count": 20,
   "metadata": {},
   "outputs": [],
   "source": [
    "from lib import processors\n",
    "from importlib import reload\n",
    "processors = reload(processors)\n",
    "\n",
    "BLOCK_PATH = \"/Users/smorgan/Documents/tdttmp/Block-1\"\n",
    "# BLOCK_PATH = \"/Volumes/SM Research/Research Data/Simeon Morgan/111_140/2009-07-19 Auditory continuous 10s acclimatisation/2009-07-19 111_140/Block-1\"\n",
    "\n"
   ]
  },
  {
   "cell_type": "code",
   "execution_count": 18,
   "metadata": {},
   "outputs": [
    {
     "name": "stderr",
     "output_type": "stream",
     "text": [
      "/Volumes/CaseSensitiveDevPartition/personal/tdt/.venv/lib/python3.8/site-packages/tdt/TDTbin2py.py:792: Warning: tnt file could not be processed\n",
      "  warnings.warn('tnt file could not be processed', Warning)\n"
     ]
    },
    {
     "name": "stdout",
     "output_type": "stream",
     "text": [
      "read from t=0s to t=7457.32s\n"
     ]
    }
   ],
   "source": [
    "x = processors.SessionProcessor(block_path=BLOCK_PATH)"
   ]
  },
  {
   "cell_type": "code",
   "execution_count": 19,
   "metadata": {},
   "outputs": [
    {
     "name": "stdout",
     "output_type": "stream",
     "text": [
      "TONES\n",
      "-----\n",
      "Tone Duration: 0.25\n",
      "Inter Tone Interval: 0.25\n",
      "\n",
      "\n",
      "OFFSETS\n",
      "-------\n",
      "In Tone Capture Start Offset: 0.0\n",
      "In Tone Capture End Offset: 0.2\n",
      "Out Tone Capture Start Offset: 0.1\n",
      "Out Tone Capture End Offset: 0.25\n",
      "\n",
      "\n",
      "EPOCHS EPOCHS\n",
      "-------------\n",
      "Trial Epoch: TriS\n",
      "Stimulus Epoch: StiS\n",
      "Attenuation Epoch: Attn\n",
      "Accoustic Frequency Epoch: AFrq\n",
      "Reference Channels Bitmask Epoch: ReBM\n",
      "Stimulation Channels Bitmask Epoch: StBM\n",
      "Stimulation Current Epoch: Curr\n",
      "Stimulation Frequency Epoch: Freq\n",
      "\n",
      "\n",
      "BLOCK\n",
      "-----\n",
      "Block Path: /Users/smorgan/Documents/tdttmp/Block-1\n"
     ]
    }
   ],
   "source": [
    "print(x.get_parameter_summary())"
   ]
  },
  {
   "cell_type": "code",
   "execution_count": null,
   "metadata": {},
   "outputs": [],
   "source": []
  }
 ],
 "metadata": {
  "kernelspec": {
   "display_name": "Python 3",
   "language": "python",
   "name": "python3"
  },
  "language_info": {
   "codemirror_mode": {
    "name": "ipython",
    "version": 3
   },
   "file_extension": ".py",
   "mimetype": "text/x-python",
   "name": "python",
   "nbconvert_exporter": "python",
   "pygments_lexer": "ipython3",
   "version": "3.8.2"
  }
 },
 "nbformat": 4,
 "nbformat_minor": 4
}
